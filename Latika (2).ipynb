{
 "cells": [
  {
   "cell_type": "markdown",
   "id": "87e65511",
   "metadata": {},
   "source": [
    "# <font color ='black'>Mini Project - Asset Management Company Dataset using Python"
   ]
  },
  {
   "cell_type": "markdown",
   "id": "c73fa019",
   "metadata": {},
   "source": [
    "# <font color ='black'>Table of Contents\n",
    "* Problem Statement\n",
    "* Dataset Description\n",
    "* Data Cleaning Steps\n",
    "* Problem Solving Steps\n",
    "* What could have been done better\n",
    "* Takeaways and Conclusions\n",
    "* Future Steps"
   ]
  },
  {
   "cell_type": "markdown",
   "id": "6e4adf03",
   "metadata": {},
   "source": [
    "<h2 id=\"Problem Statement\">Problem Statement</h2>\n",
    "\n",
    "The Objective is to identify the best countries and a suitable investment type for making the\n",
    "investment. The overall strategy is to invest where others are investing, implying that the best\n",
    "countries are the ones ‘where most investors are investing’\n"
   ]
  },
  {
   "cell_type": "markdown",
   "id": "77a05b76",
   "metadata": {},
   "source": [
    "# <font color ='black'>Dataset Description\n",
    "Datasets (Companies Details and round2) and its Description :\n",
    "* Permalink               : Unique ID of Companies\n",
    "* Name                    : name of Companies\n",
    "* Homeurl_page            : Website URL\n",
    "* Category_list           : Categories to which company belong\n",
    "* Status                  : Operational Status\n",
    "* country_code            : country_code of company\n",
    "* state_code              : state of company\n",
    "* Region                  : region of company\n",
    "* City                    : city of company\n",
    "* founded_at              : start date of company\n",
    "* company_permalink       : Unique ID of company\n",
    "* funding_round_permalink : Unique ID of funding round\n",
    "* funding_round_type      : Type of funding - Venture,angel, private equity\n",
    "* funding_round_code      : Round of venture funding (round A,B..)\n",
    "* Funding_at              : Date of funding\n",
    "* raised_amount_usd       : Money raised in funding (USD)\n"
   ]
  },
  {
   "cell_type": "markdown",
   "id": "c5b7b4c9",
   "metadata": {},
   "source": [
    "# <font color ='black'>Data Cleaning and Problem Solving Steps"
   ]
  },
  {
   "cell_type": "code",
   "execution_count": 98,
   "id": "355a4a7b",
   "metadata": {},
   "outputs": [],
   "source": [
    "# Import the NumPy library for numerical operations\n",
    "import numpy as np  \n",
    "\n",
    "# Import the Pandas library for data manipulation and analysis\n",
    "import pandas as pd  \n",
    "\n",
    "# Import the Matplotlib library for data visualization\n",
    "import matplotlib.pyplot as plt \n",
    "\n",
    "# Import the Seaborn library for statistical data visualization\n",
    "import seaborn as sns \n",
    "\n",
    "plt.style.use('dark_background')"
   ]
  },
  {
   "cell_type": "markdown",
   "id": "6d6ac439",
   "metadata": {},
   "source": [
    "# <font color = 'black'>Question 1: Reading the Rounds2, companies.txt files"
   ]
  },
  {
   "cell_type": "code",
   "execution_count": null,
   "id": "c0b34580-0eb6-4f6f-9011-f7feab5d5efc",
   "metadata": {},
   "outputs": [],
   "source": [
    "#response.encode('utf-8')\n"
   ]
  },
  {
   "cell_type": "code",
   "execution_count": 68,
   "id": "99d1d3d8",
   "metadata": {},
   "outputs": [
    {
     "data": {
      "text/html": [
       "<div>\n",
       "<style scoped>\n",
       "    .dataframe tbody tr th:only-of-type {\n",
       "        vertical-align: middle;\n",
       "    }\n",
       "\n",
       "    .dataframe tbody tr th {\n",
       "        vertical-align: top;\n",
       "    }\n",
       "\n",
       "    .dataframe thead th {\n",
       "        text-align: right;\n",
       "    }\n",
       "</style>\n",
       "<table border=\"1\" class=\"dataframe\">\n",
       "  <thead>\n",
       "    <tr style=\"text-align: right;\">\n",
       "      <th></th>\n",
       "      <th>company_permalink</th>\n",
       "      <th>funding_round_permalink</th>\n",
       "      <th>funding_round_type</th>\n",
       "      <th>funding_round_code</th>\n",
       "      <th>funded_at</th>\n",
       "      <th>raised_amount_usd</th>\n",
       "    </tr>\n",
       "  </thead>\n",
       "  <tbody>\n",
       "    <tr>\n",
       "      <th>0</th>\n",
       "      <td>/organization/-fame</td>\n",
       "      <td>/funding-round/9a01d05418af9f794eebff7ace91f638</td>\n",
       "      <td>venture</td>\n",
       "      <td>B</td>\n",
       "      <td>05-01-2015</td>\n",
       "      <td>10000000.0</td>\n",
       "    </tr>\n",
       "    <tr>\n",
       "      <th>1</th>\n",
       "      <td>/ORGANIZATION/-QOUNTER</td>\n",
       "      <td>/funding-round/22dacff496eb7acb2b901dec1dfe5633</td>\n",
       "      <td>venture</td>\n",
       "      <td>A</td>\n",
       "      <td>14-10-2014</td>\n",
       "      <td>NaN</td>\n",
       "    </tr>\n",
       "    <tr>\n",
       "      <th>2</th>\n",
       "      <td>/organization/-qounter</td>\n",
       "      <td>/funding-round/b44fbb94153f6cdef13083530bb48030</td>\n",
       "      <td>seed</td>\n",
       "      <td>NaN</td>\n",
       "      <td>01-03-2014</td>\n",
       "      <td>700000.0</td>\n",
       "    </tr>\n",
       "    <tr>\n",
       "      <th>3</th>\n",
       "      <td>/ORGANIZATION/-THE-ONE-OF-THEM-INC-</td>\n",
       "      <td>/funding-round/650b8f704416801069bb178a1418776b</td>\n",
       "      <td>venture</td>\n",
       "      <td>B</td>\n",
       "      <td>30-01-2014</td>\n",
       "      <td>3406878.0</td>\n",
       "    </tr>\n",
       "    <tr>\n",
       "      <th>4</th>\n",
       "      <td>/organization/0-6-com</td>\n",
       "      <td>/funding-round/5727accaeaa57461bd22a9bdd945382d</td>\n",
       "      <td>venture</td>\n",
       "      <td>A</td>\n",
       "      <td>19-03-2008</td>\n",
       "      <td>2000000.0</td>\n",
       "    </tr>\n",
       "  </tbody>\n",
       "</table>\n",
       "</div>"
      ],
      "text/plain": [
       "                     company_permalink  \\\n",
       "0                  /organization/-fame   \n",
       "1               /ORGANIZATION/-QOUNTER   \n",
       "2               /organization/-qounter   \n",
       "3  /ORGANIZATION/-THE-ONE-OF-THEM-INC-   \n",
       "4                /organization/0-6-com   \n",
       "\n",
       "                           funding_round_permalink funding_round_type  \\\n",
       "0  /funding-round/9a01d05418af9f794eebff7ace91f638            venture   \n",
       "1  /funding-round/22dacff496eb7acb2b901dec1dfe5633            venture   \n",
       "2  /funding-round/b44fbb94153f6cdef13083530bb48030               seed   \n",
       "3  /funding-round/650b8f704416801069bb178a1418776b            venture   \n",
       "4  /funding-round/5727accaeaa57461bd22a9bdd945382d            venture   \n",
       "\n",
       "  funding_round_code   funded_at  raised_amount_usd  \n",
       "0                  B  05-01-2015         10000000.0  \n",
       "1                  A  14-10-2014                NaN  \n",
       "2                NaN  01-03-2014           700000.0  \n",
       "3                  B  30-01-2014          3406878.0  \n",
       "4                  A  19-03-2008          2000000.0  "
      ]
     },
     "execution_count": 68,
     "metadata": {},
     "output_type": "execute_result"
    }
   ],
   "source": [
    "# Read rounds2.csv with specified encoding and handle specific characters as NA values.\n",
    "df1 = pd.read_csv(\"rounds2.csv\", encoding='latin1') \n",
    "\n",
    "# Display the first 5 rows of DataFrame df1.\n",
    "df1.head()"
   ]
  },
  {
   "cell_type": "code",
   "execution_count": 69,
   "id": "5a43af15-9e6b-4f0d-bcfc-338f2cb3ccf7",
   "metadata": {},
   "outputs": [
    {
     "name": "stdout",
     "output_type": "stream",
     "text": [
      "<class 'pandas.core.frame.DataFrame'>\n",
      "RangeIndex: 114949 entries, 0 to 114948\n",
      "Data columns (total 6 columns):\n",
      " #   Column                   Non-Null Count   Dtype  \n",
      "---  ------                   --------------   -----  \n",
      " 0   company_permalink        114949 non-null  object \n",
      " 1   funding_round_permalink  114949 non-null  object \n",
      " 2   funding_round_type       114949 non-null  object \n",
      " 3   funding_round_code       31140 non-null   object \n",
      " 4   funded_at                114949 non-null  object \n",
      " 5   raised_amount_usd        94959 non-null   float64\n",
      "dtypes: float64(1), object(5)\n",
      "memory usage: 5.3+ MB\n"
     ]
    }
   ],
   "source": [
    "df1.info()"
   ]
  },
  {
   "cell_type": "code",
   "execution_count": 112,
   "id": "42120f46-07b0-425d-af45-d738df151770",
   "metadata": {},
   "outputs": [
    {
     "data": {
      "text/plain": [
       "array(['B', 'A', nan, 'C', 'D', 'E', 'G', 'F', 'H'], dtype=object)"
      ]
     },
     "execution_count": 112,
     "metadata": {},
     "output_type": "execute_result"
    }
   ],
   "source": [
    "df1['funding_round_code'].unique()"
   ]
  },
  {
   "cell_type": "code",
   "execution_count": 113,
   "id": "e6d072c7",
   "metadata": {},
   "outputs": [
    {
     "data": {
      "text/html": [
       "<div>\n",
       "<style scoped>\n",
       "    .dataframe tbody tr th:only-of-type {\n",
       "        vertical-align: middle;\n",
       "    }\n",
       "\n",
       "    .dataframe tbody tr th {\n",
       "        vertical-align: top;\n",
       "    }\n",
       "\n",
       "    .dataframe thead th {\n",
       "        text-align: right;\n",
       "    }\n",
       "</style>\n",
       "<table border=\"1\" class=\"dataframe\">\n",
       "  <thead>\n",
       "    <tr style=\"text-align: right;\">\n",
       "      <th></th>\n",
       "      <th>permalink</th>\n",
       "      <th>name</th>\n",
       "      <th>homepage_url</th>\n",
       "      <th>category_list</th>\n",
       "      <th>status</th>\n",
       "      <th>country_code</th>\n",
       "      <th>state_code</th>\n",
       "      <th>region</th>\n",
       "      <th>city</th>\n",
       "      <th>founded_at</th>\n",
       "    </tr>\n",
       "  </thead>\n",
       "  <tbody>\n",
       "    <tr>\n",
       "      <th>0</th>\n",
       "      <td>/Organization/-Fame</td>\n",
       "      <td>#fame</td>\n",
       "      <td>http://livfame.com</td>\n",
       "      <td>Media</td>\n",
       "      <td>operating</td>\n",
       "      <td>IND</td>\n",
       "      <td>16</td>\n",
       "      <td>Mumbai</td>\n",
       "      <td>Mumbai</td>\n",
       "      <td>NaN</td>\n",
       "    </tr>\n",
       "    <tr>\n",
       "      <th>1</th>\n",
       "      <td>/Organization/-Qounter</td>\n",
       "      <td>:Qounter</td>\n",
       "      <td>http://www.qounter.com</td>\n",
       "      <td>Application Platforms|Real Time|Social Network...</td>\n",
       "      <td>operating</td>\n",
       "      <td>USA</td>\n",
       "      <td>DE</td>\n",
       "      <td>DE - Other</td>\n",
       "      <td>Delaware City</td>\n",
       "      <td>04-09-2014</td>\n",
       "    </tr>\n",
       "    <tr>\n",
       "      <th>2</th>\n",
       "      <td>/Organization/-The-One-Of-Them-Inc-</td>\n",
       "      <td>(THE) ONE of THEM,Inc.</td>\n",
       "      <td>http://oneofthem.jp</td>\n",
       "      <td>Apps|Games|Mobile</td>\n",
       "      <td>operating</td>\n",
       "      <td>NaN</td>\n",
       "      <td>NaN</td>\n",
       "      <td>NaN</td>\n",
       "      <td>NaN</td>\n",
       "      <td>NaN</td>\n",
       "    </tr>\n",
       "    <tr>\n",
       "      <th>3</th>\n",
       "      <td>/Organization/0-6-Com</td>\n",
       "      <td>0-6.com</td>\n",
       "      <td>http://www.0-6.com</td>\n",
       "      <td>Curated Web</td>\n",
       "      <td>operating</td>\n",
       "      <td>CHN</td>\n",
       "      <td>22</td>\n",
       "      <td>Beijing</td>\n",
       "      <td>Beijing</td>\n",
       "      <td>01-01-2007</td>\n",
       "    </tr>\n",
       "    <tr>\n",
       "      <th>4</th>\n",
       "      <td>/Organization/004-Technologies</td>\n",
       "      <td>004 Technologies</td>\n",
       "      <td>http://004gmbh.de/en/004-interact</td>\n",
       "      <td>Software</td>\n",
       "      <td>operating</td>\n",
       "      <td>USA</td>\n",
       "      <td>IL</td>\n",
       "      <td>Springfield, Illinois</td>\n",
       "      <td>Champaign</td>\n",
       "      <td>01-01-2010</td>\n",
       "    </tr>\n",
       "    <tr>\n",
       "      <th>5</th>\n",
       "      <td>/Organization/01Games-Technology</td>\n",
       "      <td>01Games Technology</td>\n",
       "      <td>http://www.01games.hk/</td>\n",
       "      <td>Games</td>\n",
       "      <td>operating</td>\n",
       "      <td>HKG</td>\n",
       "      <td>NaN</td>\n",
       "      <td>Hong Kong</td>\n",
       "      <td>Hong Kong</td>\n",
       "      <td>NaN</td>\n",
       "    </tr>\n",
       "    <tr>\n",
       "      <th>6</th>\n",
       "      <td>/Organization/0Ndine-Biomedical-Inc</td>\n",
       "      <td>Ondine Biomedical Inc.</td>\n",
       "      <td>http://ondinebio.com</td>\n",
       "      <td>Biotechnology</td>\n",
       "      <td>operating</td>\n",
       "      <td>CAN</td>\n",
       "      <td>BC</td>\n",
       "      <td>Vancouver</td>\n",
       "      <td>Vancouver</td>\n",
       "      <td>01-01-1997</td>\n",
       "    </tr>\n",
       "    <tr>\n",
       "      <th>7</th>\n",
       "      <td>/Organization/0Xdata</td>\n",
       "      <td>H2O.ai</td>\n",
       "      <td>http://h2o.ai/</td>\n",
       "      <td>Analytics</td>\n",
       "      <td>operating</td>\n",
       "      <td>USA</td>\n",
       "      <td>CA</td>\n",
       "      <td>SF Bay Area</td>\n",
       "      <td>Mountain View</td>\n",
       "      <td>01-01-2011</td>\n",
       "    </tr>\n",
       "    <tr>\n",
       "      <th>8</th>\n",
       "      <td>/Organization/1</td>\n",
       "      <td>One Inc.</td>\n",
       "      <td>http://whatis1.com</td>\n",
       "      <td>Mobile</td>\n",
       "      <td>operating</td>\n",
       "      <td>USA</td>\n",
       "      <td>CA</td>\n",
       "      <td>SF Bay Area</td>\n",
       "      <td>San Francisco</td>\n",
       "      <td>01-08-2011</td>\n",
       "    </tr>\n",
       "    <tr>\n",
       "      <th>9</th>\n",
       "      <td>/Organization/1-2-3-Listo</td>\n",
       "      <td>1,2,3 Listo</td>\n",
       "      <td>http://www.123listo.com</td>\n",
       "      <td>E-Commerce</td>\n",
       "      <td>operating</td>\n",
       "      <td>CHL</td>\n",
       "      <td>12</td>\n",
       "      <td>Santiago</td>\n",
       "      <td>Las Condes</td>\n",
       "      <td>01-01-2012</td>\n",
       "    </tr>\n",
       "  </tbody>\n",
       "</table>\n",
       "</div>"
      ],
      "text/plain": [
       "                             permalink                    name  \\\n",
       "0                  /Organization/-Fame                   #fame   \n",
       "1               /Organization/-Qounter                :Qounter   \n",
       "2  /Organization/-The-One-Of-Them-Inc-  (THE) ONE of THEM,Inc.   \n",
       "3                /Organization/0-6-Com                 0-6.com   \n",
       "4       /Organization/004-Technologies        004 Technologies   \n",
       "5     /Organization/01Games-Technology      01Games Technology   \n",
       "6  /Organization/0Ndine-Biomedical-Inc  Ondine Biomedical Inc.   \n",
       "7                 /Organization/0Xdata                  H2O.ai   \n",
       "8                      /Organization/1                One Inc.   \n",
       "9            /Organization/1-2-3-Listo             1,2,3 Listo   \n",
       "\n",
       "                        homepage_url  \\\n",
       "0                 http://livfame.com   \n",
       "1             http://www.qounter.com   \n",
       "2                http://oneofthem.jp   \n",
       "3                 http://www.0-6.com   \n",
       "4  http://004gmbh.de/en/004-interact   \n",
       "5             http://www.01games.hk/   \n",
       "6               http://ondinebio.com   \n",
       "7                     http://h2o.ai/   \n",
       "8                 http://whatis1.com   \n",
       "9            http://www.123listo.com   \n",
       "\n",
       "                                       category_list     status country_code  \\\n",
       "0                                              Media  operating          IND   \n",
       "1  Application Platforms|Real Time|Social Network...  operating          USA   \n",
       "2                                  Apps|Games|Mobile  operating          NaN   \n",
       "3                                        Curated Web  operating          CHN   \n",
       "4                                           Software  operating          USA   \n",
       "5                                              Games  operating          HKG   \n",
       "6                                      Biotechnology  operating          CAN   \n",
       "7                                          Analytics  operating          USA   \n",
       "8                                             Mobile  operating          USA   \n",
       "9                                         E-Commerce  operating          CHL   \n",
       "\n",
       "  state_code                 region           city  founded_at  \n",
       "0         16                 Mumbai         Mumbai         NaN  \n",
       "1         DE             DE - Other  Delaware City  04-09-2014  \n",
       "2        NaN                    NaN            NaN         NaN  \n",
       "3         22                Beijing        Beijing  01-01-2007  \n",
       "4         IL  Springfield, Illinois      Champaign  01-01-2010  \n",
       "5        NaN              Hong Kong      Hong Kong         NaN  \n",
       "6         BC              Vancouver      Vancouver  01-01-1997  \n",
       "7         CA            SF Bay Area  Mountain View  01-01-2011  \n",
       "8         CA            SF Bay Area  San Francisco  01-08-2011  \n",
       "9         12               Santiago     Las Condes  01-01-2012  "
      ]
     },
     "execution_count": 113,
     "metadata": {},
     "output_type": "execute_result"
    }
   ],
   "source": [
    "# Read companies (1).txt using tab as separator and double quotes as quote character, considering specific characters as NA values.\n",
    "df2 = pd.read_csv('companies (1).txt', sep='\\t')  \n",
    "\n",
    "# Display the first row of DataFrame df2.\n",
    "df2.head(10)"
   ]
  },
  {
   "cell_type": "markdown",
   "id": "5e0be58e",
   "metadata": {},
   "source": [
    "# <font color = 'black'>Question 2 : How many unique companies are present in rounds2"
   ]
  },
  {
   "cell_type": "code",
   "execution_count": 72,
   "id": "c2c5a185",
   "metadata": {},
   "outputs": [
    {
     "name": "stdout",
     "output_type": "stream",
     "text": [
      "The Unique Companies present in Round 2 are: 90247\n"
     ]
    }
   ],
   "source": [
    "# Counting the number of unique companies in the 'company_permalink' column of DataFrame df1\n",
    "List_unique_companies_in_rounds2 = df1['company_permalink'].nunique()  \n",
    "\n",
    "# Displaying the count of unique companies in Round 2\n",
    "print(f'The Unique Companies present in Round 2 are: {List_unique_companies_in_rounds2}')  "
   ]
  },
  {
   "cell_type": "code",
   "execution_count": 111,
   "id": "29b2c3cc-5ece-4489-97b3-b4845e86352a",
   "metadata": {},
   "outputs": [
    {
     "data": {
      "text/plain": [
       "<BarContainer object of 1 artists>"
      ]
     },
     "execution_count": 111,
     "metadata": {},
     "output_type": "execute_result"
    },
    {
     "data": {
      "image/png": "[encoded data removed]",
      "text/plain": [
       "<Figure size 500x600 with 1 Axes>"
      ]
     },
     "metadata": {},
     "output_type": "display_data"
    }
   ],
   "source": [
    "# Create a bar plot\n",
    "plt.figure(figsize=(5, 6))\n",
    "plt.bar(['Unique Companies in Round 2'], [List_unique_companies_in_rounds2], color='lightblue')"
   ]
  },
  {
   "cell_type": "markdown",
   "id": "f4a8eebe",
   "metadata": {},
   "source": [
    "# <font color = 'black'>Question 3 : How many unique companies are present in the companies file"
   ]
  },
  {
   "cell_type": "code",
   "execution_count": 73,
   "id": "d4e503e6",
   "metadata": {},
   "outputs": [
    {
     "name": "stdout",
     "output_type": "stream",
     "text": [
      "The Unique Companies present in Companies file are : 66368\n"
     ]
    }
   ],
   "source": [
    "# Counting the number of unique companies in the 'permalink' column\n",
    "List_unique_companies_in_companies_file = df2['permalink'].nunique()  \n",
    "\n",
    "# Displaying the count of unique companies\n",
    "print(f'The Unique Companies present in Companies file are : {List_unique_companies_in_companies_file}')"
   ]
  },
  {
   "cell_type": "code",
   "execution_count": 110,
   "id": "fd9fd4de-eac9-497b-9fd0-934050dbe132",
   "metadata": {},
   "outputs": [
    {
     "data": {
      "text/plain": [
       "<BarContainer object of 1 artists>"
      ]
     },
     "execution_count": 110,
     "metadata": {},
     "output_type": "execute_result"
    },
    {
     "data": {
      "image/png": "[encoded data removed]",
      "text/plain": [
       "<Figure size 500x600 with 1 Axes>"
      ]
     },
     "metadata": {},
     "output_type": "display_data"
    }
   ],
   "source": [
    "# Create a bar plot\n",
    "plt.figure(figsize=(5, 6))\n",
    "plt.bar(['List_unique_companies_in_companies_file'], [List_unique_companies_in_companies_file], color='pink')"
   ]
  },
  {
   "cell_type": "markdown",
   "id": "7eb09c46",
   "metadata": {},
   "source": [
    "# <font color = 'black'>Question 4 : Write the code to convert companies[‘permalink’] and Round2[‘company_permalink’] columns to uppercase"
   ]
  },
  {
   "cell_type": "code",
   "execution_count": 8,
   "id": "2a0d3068-edea-4361-ac6f-701524f22e4d",
   "metadata": {},
   "outputs": [
    {
     "data": {
      "text/plain": [
       "0       /ORGANIZATION/-FAME\n",
       "1    /ORGANIZATION/-QOUNTER\n",
       "Name: company_permalink, dtype: object"
      ]
     },
     "execution_count": 8,
     "metadata": {},
     "output_type": "execute_result"
    }
   ],
   "source": [
    "df1['company_permalink']=df1['company_permalink'].str.upper()\n",
    "df1['company_permalink'].head(2)"
   ]
  },
  {
   "cell_type": "code",
   "execution_count": 9,
   "id": "208269bf",
   "metadata": {},
   "outputs": [
    {
     "data": {
      "text/plain": [
       "0       /ORGANIZATION/-FAME\n",
       "1    /ORGANIZATION/-QOUNTER\n",
       "Name: permalink, dtype: object"
      ]
     },
     "execution_count": 9,
     "metadata": {},
     "output_type": "execute_result"
    }
   ],
   "source": [
    "df2['permalink']=df2['permalink'].str.upper()\n",
    "df2['permalink'].head(2)"
   ]
  },
  {
   "cell_type": "markdown",
   "id": "2e489cea",
   "metadata": {},
   "source": [
    "# <font color = 'black'>Question 5 : Are there any companies in the rounds2 file which are not  present in companies.txt "
   ]
  },
  {
   "cell_type": "code",
   "execution_count": 44,
   "id": "b7d70cb3-d389-47c6-bd38-cd73c1f0f2f9",
   "metadata": {},
   "outputs": [
    {
     "name": "stdout",
     "output_type": "stream",
     "text": [
      "2\n"
     ]
    }
   ],
   "source": [
    "# Create a set of unique 'company_permalink' values from the 'df1' DataFrame\n",
    "companies_set1 = len(set(df1['company_permalink']))\n",
    "\n",
    "# Create a set of unique 'permalink' values from the 'df2' DataFrame\n",
    "companies_set2 = len(set(df2['permalink']))\n",
    "\n",
    "# Print the difference in the number of unique 'permalink' values\n",
    "print(companies_set1 - companies_set2)"
   ]
  },
  {
   "cell_type": "code",
   "execution_count": 106,
   "id": "cedd4246-be73-4a37-89d4-8dda62861e48",
   "metadata": {},
   "outputs": [
    {
     "data": {
      "text/plain": [
       "Text(0.5, 1.0, 'Unique Companies in df2')"
      ]
     },
     "execution_count": 106,
     "metadata": {},
     "output_type": "execute_result"
    },
    {
     "data": {
      "image/png": "[encoded data removed]",
      "text/plain": [
       "<Figure size 1200x600 with 2 Axes>"
      ]
     },
     "metadata": {},
     "output_type": "display_data"
    }
   ],
   "source": [
    "# Create two bar plots\n",
    "plt.figure(figsize=(12, 6))\n",
    "\n",
    "plt.subplot(1, 2, 1)\n",
    "plt.bar(['Unique Companies in df1'], [companies_set1], color='skyblue')\n",
    "plt.title('Unique Companies in df1')\n",
    "\n",
    "plt.subplot(1, 2, 2)\n",
    "plt.bar(['Unique Companies in df2'], [companies_set2], color='lightgreen')\n",
    "plt.title('Unique Companies in df2')"
   ]
  },
  {
   "cell_type": "markdown",
   "id": "a15c4d1f",
   "metadata": {},
   "source": [
    "# <font color = 'black'>Question 6 : Merge the two data frames so that all variables (columns) in the company's frame are added to the rounds2 data frame. Name the merged frame master_dataframe. How many observations are present in master_frame ?"
   ]
  },
  {
   "cell_type": "code",
   "execution_count": 138,
   "id": "20f60cbe-a8f5-4b7e-82ac-c0c214fbe243",
   "metadata": {},
   "outputs": [
    {
     "name": "stdout",
     "output_type": "stream",
     "text": [
      "Number of observations in master_frame: 114949\n"
     ]
    },
    {
     "data": {
      "text/plain": [
       "Text(0, 0.5, 'Count')"
      ]
     },
     "execution_count": 138,
     "metadata": {},
     "output_type": "execute_result"
    },
    {
     "data": {
      "image/png": "[encoded data removed]",
      "text/plain": [
       "<Figure size 500x600 with 1 Axes>"
      ]
     },
     "metadata": {},
     "output_type": "display_data"
    }
   ],
   "source": [
    "# Drop duplicate 'permalink' values in df2\n",
    "df2_unique = df2.drop_duplicates(subset='permalink')\n",
    "\n",
    "# Merge the two data frames\n",
    "master_dataframe = pd.merge(df1, df2_unique, how='left', left_on='company_permalink', right_on='permalink')\n",
    "\n",
    "# Count the number of observations in master_frame\n",
    "num_observations = len(master_dataframe)\n",
    "\n",
    "print(\"Number of observations in master_frame:\", num_observations)\n",
    "\n",
    "plt.figure(figsize = (5, 6))\n",
    "plt.bar(['Number of Observations'], [num_observations], color='green')"
   ]
  },
  {
   "cell_type": "code",
   "execution_count": 139,
   "id": "e0b0f198-4141-4549-98a5-5ffa7d5dcbb1",
   "metadata": {},
   "outputs": [
    {
     "name": "stdout",
     "output_type": "stream",
     "text": [
      "<class 'pandas.core.series.Series'>\n",
      "RangeIndex: 114949 entries, 0 to 114948\n",
      "Series name: company_permalink\n",
      "Non-Null Count   Dtype \n",
      "--------------   ----- \n",
      "114949 non-null  object\n",
      "dtypes: object(1)\n",
      "memory usage: 898.2+ KB\n"
     ]
    }
   ],
   "source": [
    "df1['company_permalink'].info()"
   ]
  },
  {
   "cell_type": "markdown",
   "id": "5eccc605",
   "metadata": {},
   "source": [
    "# <font color = 'black'>Question 7 : Write the code to drop the redundant column ‘'company_permalink' from the master_dataframe."
   ]
  },
  {
   "cell_type": "code",
   "execution_count": 128,
   "id": "a7e823ce",
   "metadata": {},
   "outputs": [
    {
     "name": "stdout",
     "output_type": "stream",
     "text": [
      "No. of columns in master_dataframe before dropping the column are  16\n",
      "No. of columns in master_dataframe after dropping the column are  15\n"
     ]
    }
   ],
   "source": [
    "# Assuming 'before_drop' contains the number of columns before dropping 'company_permalink'\n",
    "before_drop = len(master_dataframe.columns)\n",
    "print('No. of columns in master_dataframe before dropping the column are ',before_drop)\n",
    "\n",
    "# Dropping the 'company_permalink' column\n",
    "master_df = master_dataframe.drop('company_permalink', axis=1)\n",
    "\n",
    "# Counting the number of columns after dropping 'company_permalink'\n",
    "after_drop = len(master_df.columns)\n",
    "print('No. of columns in master_dataframe after dropping the column are ',after_drop)"
   ]
  },
  {
   "cell_type": "markdown",
   "id": "733a37e1",
   "metadata": {},
   "source": [
    "# <font color = 'black'>Question 8 : Write the code to find the percentage missing value (column-wise) in master_dataframe. Drop unnecessary columns"
   ]
  },
  {
   "cell_type": "code",
   "execution_count": 130,
   "id": "c2da8453-bd4d-4292-910e-17cb773e2cc5",
   "metadata": {},
   "outputs": [
    {
     "data": {
      "text/html": [
       "<div>\n",
       "<style scoped>\n",
       "    .dataframe tbody tr th:only-of-type {\n",
       "        vertical-align: middle;\n",
       "    }\n",
       "\n",
       "    .dataframe tbody tr th {\n",
       "        vertical-align: top;\n",
       "    }\n",
       "\n",
       "    .dataframe thead th {\n",
       "        text-align: right;\n",
       "    }\n",
       "</style>\n",
       "<table border=\"1\" class=\"dataframe\">\n",
       "  <thead>\n",
       "    <tr style=\"text-align: right;\">\n",
       "      <th></th>\n",
       "      <th>Total_Null_values</th>\n",
       "      <th>Null_Value_Percent%</th>\n",
       "    </tr>\n",
       "  </thead>\n",
       "  <tbody>\n",
       "    <tr>\n",
       "      <th>funding_round_code</th>\n",
       "      <td>150177</td>\n",
       "      <td>82.825659</td>\n",
       "    </tr>\n",
       "    <tr>\n",
       "      <th>founded_at</th>\n",
       "      <td>130170</td>\n",
       "      <td>71.791393</td>\n",
       "    </tr>\n",
       "    <tr>\n",
       "      <th>state_code</th>\n",
       "      <td>123496</td>\n",
       "      <td>68.110547</td>\n",
       "    </tr>\n",
       "    <tr>\n",
       "      <th>region</th>\n",
       "      <td>122979</td>\n",
       "      <td>67.825411</td>\n",
       "    </tr>\n",
       "    <tr>\n",
       "      <th>city</th>\n",
       "      <td>122977</td>\n",
       "      <td>67.824308</td>\n",
       "    </tr>\n",
       "    <tr>\n",
       "      <th>country_code</th>\n",
       "      <td>121907</td>\n",
       "      <td>67.234181</td>\n",
       "    </tr>\n",
       "    <tr>\n",
       "      <th>homepage_url</th>\n",
       "      <td>120007</td>\n",
       "      <td>66.186293</td>\n",
       "    </tr>\n",
       "    <tr>\n",
       "      <th>category_list</th>\n",
       "      <td>118097</td>\n",
       "      <td>65.132889</td>\n",
       "    </tr>\n",
       "    <tr>\n",
       "      <th>name</th>\n",
       "      <td>114950</td>\n",
       "      <td>63.397255</td>\n",
       "    </tr>\n",
       "    <tr>\n",
       "      <th>permalink</th>\n",
       "      <td>114949</td>\n",
       "      <td>63.396703</td>\n",
       "    </tr>\n",
       "    <tr>\n",
       "      <th>status</th>\n",
       "      <td>114949</td>\n",
       "      <td>63.396703</td>\n",
       "    </tr>\n",
       "    <tr>\n",
       "      <th>raised_amount_usd</th>\n",
       "      <td>86358</td>\n",
       "      <td>47.628187</td>\n",
       "    </tr>\n",
       "    <tr>\n",
       "      <th>funding_round_permalink</th>\n",
       "      <td>66368</td>\n",
       "      <td>36.603297</td>\n",
       "    </tr>\n",
       "    <tr>\n",
       "      <th>funding_round_type</th>\n",
       "      <td>66368</td>\n",
       "      <td>36.603297</td>\n",
       "    </tr>\n",
       "    <tr>\n",
       "      <th>funded_at</th>\n",
       "      <td>66368</td>\n",
       "      <td>36.603297</td>\n",
       "    </tr>\n",
       "  </tbody>\n",
       "</table>\n",
       "</div>"
      ],
      "text/plain": [
       "                         Total_Null_values  Null_Value_Percent%\n",
       "funding_round_code                  150177            82.825659\n",
       "founded_at                          130170            71.791393\n",
       "state_code                          123496            68.110547\n",
       "region                              122979            67.825411\n",
       "city                                122977            67.824308\n",
       "country_code                        121907            67.234181\n",
       "homepage_url                        120007            66.186293\n",
       "category_list                       118097            65.132889\n",
       "name                                114950            63.397255\n",
       "permalink                           114949            63.396703\n",
       "status                              114949            63.396703\n",
       "raised_amount_usd                    86358            47.628187\n",
       "funding_round_permalink              66368            36.603297\n",
       "funding_round_type                   66368            36.603297\n",
       "funded_at                            66368            36.603297"
      ]
     },
     "execution_count": 130,
     "metadata": {},
     "output_type": "execute_result"
    }
   ],
   "source": [
    "#total missing values in the data\n",
    "total = master_df.isna().sum().sort_values(ascending=False)\n",
    "\n",
    "#percentage of  missing values in the data\n",
    "percent = ((master_df.isna().sum()/master_df.isna().count())*100).sort_values(ascending=False)\n",
    "\n",
    "#lets store the above two values in a dataset called missing data\n",
    "missing_data=pd.concat([total,percent],axis=1,keys=['Total_Null_values','Null_Value_Percent%'])\n",
    "\n",
    "#lets check the head of the data\n",
    "missing_data"
   ]
  },
  {
   "cell_type": "code",
   "execution_count": null,
   "id": "63a71c5a-dfcb-4483-9dc3-f46dc657f9a1",
   "metadata": {},
   "outputs": [],
   "source": []
  },
  {
   "cell_type": "markdown",
   "id": "a65aff48",
   "metadata": {},
   "source": [
    "# <font color = 'black'>Question 9 : Create a pivot table to compare the mean and median values for ‘raised_amount_usd’ and ‘funding_round_type’ across different funding round categories."
   ]
  },
  {
   "cell_type": "code",
   "execution_count": 24,
   "id": "e308d762",
   "metadata": {},
   "outputs": [
    {
     "data": {
      "text/html": [
       "<div>\n",
       "<style scoped>\n",
       "    .dataframe tbody tr th:only-of-type {\n",
       "        vertical-align: middle;\n",
       "    }\n",
       "\n",
       "    .dataframe tbody tr th {\n",
       "        vertical-align: top;\n",
       "    }\n",
       "\n",
       "    .dataframe thead th {\n",
       "        text-align: right;\n",
       "    }\n",
       "</style>\n",
       "<table border=\"1\" class=\"dataframe\">\n",
       "  <thead>\n",
       "    <tr style=\"text-align: right;\">\n",
       "      <th>funding_round_type</th>\n",
       "      <th>angel</th>\n",
       "      <th>convertible_note</th>\n",
       "      <th>debt_financing</th>\n",
       "      <th>equity_crowdfunding</th>\n",
       "      <th>grant</th>\n",
       "      <th>non_equity_assistance</th>\n",
       "      <th>post_ipo_debt</th>\n",
       "      <th>post_ipo_equity</th>\n",
       "      <th>private_equity</th>\n",
       "      <th>product_crowdfunding</th>\n",
       "      <th>secondary_market</th>\n",
       "      <th>seed</th>\n",
       "      <th>undisclosed</th>\n",
       "      <th>venture</th>\n",
       "    </tr>\n",
       "  </thead>\n",
       "  <tbody>\n",
       "    <tr>\n",
       "      <th>mean</th>\n",
       "      <td>958891.772587</td>\n",
       "      <td>1.453439e+06</td>\n",
       "      <td>1.704353e+07</td>\n",
       "      <td>538368.210912</td>\n",
       "      <td>4.302600e+06</td>\n",
       "      <td>411203.054795</td>\n",
       "      <td>1.687046e+08</td>\n",
       "      <td>8.218249e+07</td>\n",
       "      <td>7.330859e+07</td>\n",
       "      <td>1.363131e+06</td>\n",
       "      <td>79649630.1</td>\n",
       "      <td>720016.325195</td>\n",
       "      <td>1.924237e+07</td>\n",
       "      <td>1.174875e+07</td>\n",
       "    </tr>\n",
       "    <tr>\n",
       "      <th>median</th>\n",
       "      <td>400000.000000</td>\n",
       "      <td>2.720000e+05</td>\n",
       "      <td>1.100000e+06</td>\n",
       "      <td>100000.000000</td>\n",
       "      <td>2.026580e+05</td>\n",
       "      <td>60000.000000</td>\n",
       "      <td>1.995000e+07</td>\n",
       "      <td>1.226285e+07</td>\n",
       "      <td>2.000000e+07</td>\n",
       "      <td>1.839150e+05</td>\n",
       "      <td>32600000.0</td>\n",
       "      <td>275000.000000</td>\n",
       "      <td>1.018680e+06</td>\n",
       "      <td>5.000000e+06</td>\n",
       "    </tr>\n",
       "  </tbody>\n",
       "</table>\n",
       "</div>"
      ],
      "text/plain": [
       "funding_round_type          angel  convertible_note  debt_financing  \\\n",
       "mean                958891.772587      1.453439e+06    1.704353e+07   \n",
       "median              400000.000000      2.720000e+05    1.100000e+06   \n",
       "\n",
       "funding_round_type  equity_crowdfunding         grant  non_equity_assistance  \\\n",
       "mean                      538368.210912  4.302600e+06          411203.054795   \n",
       "median                    100000.000000  2.026580e+05           60000.000000   \n",
       "\n",
       "funding_round_type  post_ipo_debt  post_ipo_equity  private_equity  \\\n",
       "mean                 1.687046e+08     8.218249e+07    7.330859e+07   \n",
       "median               1.995000e+07     1.226285e+07    2.000000e+07   \n",
       "\n",
       "funding_round_type  product_crowdfunding  secondary_market           seed  \\\n",
       "mean                        1.363131e+06        79649630.1  720016.325195   \n",
       "median                      1.839150e+05        32600000.0  275000.000000   \n",
       "\n",
       "funding_round_type   undisclosed       venture  \n",
       "mean                1.924237e+07  1.174875e+07  \n",
       "median              1.018680e+06  5.000000e+06  "
      ]
     },
     "execution_count": 24,
     "metadata": {},
     "output_type": "execute_result"
    }
   ],
   "source": [
    "# Creating a pivot table from 'master_df' DataFrame\n",
    "# The table is pivoted on 'funding_round_type' as the index, 'category_list' as columns,\n",
    "# 'raised_amount_usd' as values, and aggregation functions for 'raised_amount_usd' as mean and median.\n",
    "df = master_df.pivot_table(       \n",
    "    columns='funding_round_type',           # Use 'category_list' for column-wise categorization\n",
    "    values='raised_amount_usd',        # Values to fill the pivot table cells\n",
    "    aggfunc={'raised_amount_usd': ['mean', 'median']}  # Use mean and median for aggregation\n",
    ")\n",
    "\n",
    "# Displaying the resulting pivot table\n",
    "df"
   ]
  },
  {
   "cell_type": "markdown",
   "id": "f4e8242c",
   "metadata": {},
   "source": [
    "# <font color = 'black'>Question 10 : Filter the master_dataframe on ‘raised_amount_usd’ such as ‘raised_amount_usd’ lie between 4 Millions to 15 Millions."
   ]
  },
  {
   "cell_type": "code",
   "execution_count": 131,
   "id": "84f8e350",
   "metadata": {},
   "outputs": [
    {
     "data": {
      "text/html": [
       "<div>\n",
       "<style scoped>\n",
       "    .dataframe tbody tr th:only-of-type {\n",
       "        vertical-align: middle;\n",
       "    }\n",
       "\n",
       "    .dataframe tbody tr th {\n",
       "        vertical-align: top;\n",
       "    }\n",
       "\n",
       "    .dataframe thead th {\n",
       "        text-align: right;\n",
       "    }\n",
       "</style>\n",
       "<table border=\"1\" class=\"dataframe\">\n",
       "  <thead>\n",
       "    <tr style=\"text-align: right;\">\n",
       "      <th></th>\n",
       "      <th>funding_round_permalink</th>\n",
       "      <th>funding_round_type</th>\n",
       "      <th>funding_round_code</th>\n",
       "      <th>funded_at</th>\n",
       "      <th>raised_amount_usd</th>\n",
       "      <th>permalink</th>\n",
       "      <th>name</th>\n",
       "      <th>homepage_url</th>\n",
       "      <th>category_list</th>\n",
       "      <th>status</th>\n",
       "      <th>country_code</th>\n",
       "      <th>state_code</th>\n",
       "      <th>region</th>\n",
       "      <th>city</th>\n",
       "      <th>founded_at</th>\n",
       "    </tr>\n",
       "  </thead>\n",
       "  <tbody>\n",
       "    <tr>\n",
       "      <th>0</th>\n",
       "      <td>/funding-round/9a01d05418af9f794eebff7ace91f638</td>\n",
       "      <td>venture</td>\n",
       "      <td>B</td>\n",
       "      <td>05-01-2015</td>\n",
       "      <td>10000000.0</td>\n",
       "      <td>NaN</td>\n",
       "      <td>NaN</td>\n",
       "      <td>NaN</td>\n",
       "      <td>NaN</td>\n",
       "      <td>NaN</td>\n",
       "      <td>NaN</td>\n",
       "      <td>NaN</td>\n",
       "      <td>NaN</td>\n",
       "      <td>NaN</td>\n",
       "      <td>NaN</td>\n",
       "    </tr>\n",
       "    <tr>\n",
       "      <th>12</th>\n",
       "      <td>/funding-round/e1cfcbe1bdf4c70277c5f29a3482f24e</td>\n",
       "      <td>venture</td>\n",
       "      <td>A</td>\n",
       "      <td>19-07-2014</td>\n",
       "      <td>8900000.0</td>\n",
       "      <td>NaN</td>\n",
       "      <td>NaN</td>\n",
       "      <td>NaN</td>\n",
       "      <td>NaN</td>\n",
       "      <td>NaN</td>\n",
       "      <td>NaN</td>\n",
       "      <td>NaN</td>\n",
       "      <td>NaN</td>\n",
       "      <td>NaN</td>\n",
       "      <td>NaN</td>\n",
       "    </tr>\n",
       "    <tr>\n",
       "      <th>21</th>\n",
       "      <td>/funding-round/11c228f58831bc7ed337ef69ecc560c2</td>\n",
       "      <td>private_equity</td>\n",
       "      <td>NaN</td>\n",
       "      <td>01-02-2015</td>\n",
       "      <td>6000000.0</td>\n",
       "      <td>NaN</td>\n",
       "      <td>NaN</td>\n",
       "      <td>NaN</td>\n",
       "      <td>NaN</td>\n",
       "      <td>NaN</td>\n",
       "      <td>NaN</td>\n",
       "      <td>NaN</td>\n",
       "      <td>NaN</td>\n",
       "      <td>NaN</td>\n",
       "      <td>NaN</td>\n",
       "    </tr>\n",
       "    <tr>\n",
       "      <th>22</th>\n",
       "      <td>/funding-round/b952cbaf401f310927430c97b68162ea</td>\n",
       "      <td>venture</td>\n",
       "      <td>NaN</td>\n",
       "      <td>17-03-2015</td>\n",
       "      <td>5000000.0</td>\n",
       "      <td>NaN</td>\n",
       "      <td>NaN</td>\n",
       "      <td>NaN</td>\n",
       "      <td>NaN</td>\n",
       "      <td>NaN</td>\n",
       "      <td>NaN</td>\n",
       "      <td>NaN</td>\n",
       "      <td>NaN</td>\n",
       "      <td>NaN</td>\n",
       "      <td>NaN</td>\n",
       "    </tr>\n",
       "    <tr>\n",
       "      <th>28</th>\n",
       "      <td>/funding-round/0faccbbcc5818dc5326469f13f5a8ac8</td>\n",
       "      <td>venture</td>\n",
       "      <td>A</td>\n",
       "      <td>09-10-2014</td>\n",
       "      <td>4000000.0</td>\n",
       "      <td>NaN</td>\n",
       "      <td>NaN</td>\n",
       "      <td>NaN</td>\n",
       "      <td>NaN</td>\n",
       "      <td>NaN</td>\n",
       "      <td>NaN</td>\n",
       "      <td>NaN</td>\n",
       "      <td>NaN</td>\n",
       "      <td>NaN</td>\n",
       "      <td>NaN</td>\n",
       "    </tr>\n",
       "  </tbody>\n",
       "</table>\n",
       "</div>"
      ],
      "text/plain": [
       "                            funding_round_permalink funding_round_type  \\\n",
       "0   /funding-round/9a01d05418af9f794eebff7ace91f638            venture   \n",
       "12  /funding-round/e1cfcbe1bdf4c70277c5f29a3482f24e            venture   \n",
       "21  /funding-round/11c228f58831bc7ed337ef69ecc560c2     private_equity   \n",
       "22  /funding-round/b952cbaf401f310927430c97b68162ea            venture   \n",
       "28  /funding-round/0faccbbcc5818dc5326469f13f5a8ac8            venture   \n",
       "\n",
       "   funding_round_code   funded_at  raised_amount_usd permalink name  \\\n",
       "0                   B  05-01-2015         10000000.0       NaN  NaN   \n",
       "12                  A  19-07-2014          8900000.0       NaN  NaN   \n",
       "21                NaN  01-02-2015          6000000.0       NaN  NaN   \n",
       "22                NaN  17-03-2015          5000000.0       NaN  NaN   \n",
       "28                  A  09-10-2014          4000000.0       NaN  NaN   \n",
       "\n",
       "   homepage_url category_list status country_code state_code region city  \\\n",
       "0           NaN           NaN    NaN          NaN        NaN    NaN  NaN   \n",
       "12          NaN           NaN    NaN          NaN        NaN    NaN  NaN   \n",
       "21          NaN           NaN    NaN          NaN        NaN    NaN  NaN   \n",
       "22          NaN           NaN    NaN          NaN        NaN    NaN  NaN   \n",
       "28          NaN           NaN    NaN          NaN        NaN    NaN  NaN   \n",
       "\n",
       "   founded_at  \n",
       "0         NaN  \n",
       "12        NaN  \n",
       "21        NaN  \n",
       "22        NaN  \n",
       "28        NaN  "
      ]
     },
     "execution_count": 131,
     "metadata": {},
     "output_type": "execute_result"
    }
   ],
   "source": [
    "filtered_master_df = master_df[(master_df['raised_amount_usd'] >= 4000000) & (master_df['raised_amount_usd'] <= 15000000)]\n",
    "filtered_master_df.head(5)"
   ]
  },
  {
   "cell_type": "markdown",
   "id": "29d68e38",
   "metadata": {},
   "source": [
    "# <font color = 'black'>Question 11 : Identify the top 9 countries in terms of highest investment in ‘venture’ fund type."
   ]
  },
  {
   "cell_type": "code",
   "execution_count": 92,
   "id": "29dfebcc",
   "metadata": {},
   "outputs": [
    {
     "name": "stdout",
     "output_type": "stream",
     "text": [
      "The top 9 countries in terms of Highest Investment in venture fund type are :\n"
     ]
    },
    {
     "data": {
      "text/plain": [
       "country_code\n",
       "USA    4.225108e+11\n",
       "CHN    3.983542e+10\n",
       "GBR    2.024563e+10\n",
       "IND    1.439186e+10\n",
       "CAN    9.583332e+09\n",
       "FRA    7.259537e+09\n",
       "ISR    6.907515e+09\n",
       "DEU    6.346960e+09\n",
       "JPN    3.363677e+09\n",
       "Name: raised_amount_usd, dtype: float64"
      ]
     },
     "execution_count": 92,
     "metadata": {},
     "output_type": "execute_result"
    }
   ],
   "source": [
    "# Filtering the 'master_df' DataFrame to select rows where 'funding_round_type' is 'venture'\n",
    "a = master_df[master_df['funding_round_type'] == 'venture']\n",
    "\n",
    "# Grouping the filtered data by 'country_code' and summing the 'raised_amount_usd' for each country\n",
    "investment_by_country = a.groupby('country_code')['raised_amount_usd'].sum()\n",
    "\n",
    "# Sorting the 'investment_by_country' Series in descending order and selecting the top 9 countries\n",
    "top_9_countries = investment_by_country.sort_values(ascending=False).head(9)\n",
    "\n",
    "# Displaying the top 9 countries with the highest investment in the 'venture' funding round type\n",
    "print('The top 9 countries in terms of Highest Investment in venture fund type are :')\n",
    "\n",
    "# Displaying the styled DataFrame\n",
    "top_9_countries"
   ]
  },
  {
   "cell_type": "code",
   "execution_count": 108,
   "id": "75d1e384-0153-4e2d-b11e-755b9b508fc7",
   "metadata": {},
   "outputs": [
    {
     "data": {
      "text/plain": [
       "([0, 1, 2, 3, 4, 5, 6, 7, 8],\n",
       " [Text(0, 0, 'USA'),\n",
       "  Text(1, 0, 'CHN'),\n",
       "  Text(2, 0, 'GBR'),\n",
       "  Text(3, 0, 'IND'),\n",
       "  Text(4, 0, 'CAN'),\n",
       "  Text(5, 0, 'FRA'),\n",
       "  Text(6, 0, 'ISR'),\n",
       "  Text(7, 0, 'DEU'),\n",
       "  Text(8, 0, 'JPN')])"
      ]
     },
     "execution_count": 108,
     "metadata": {},
     "output_type": "execute_result"
    },
    {
     "data": {
      "image/png": "[encoded data removed]",
      "text/plain": [
       "<Figure size 1200x600 with 1 Axes>"
      ]
     },
     "metadata": {},
     "output_type": "display_data"
    }
   ],
   "source": [
    "# Create a bar plot\n",
    "plt.figure(figsize=(12, 6))\n",
    "plt.bar(top_9_countries.index, top_9_countries.values, color='purple')\n",
    "plt.xlabel('Country Code')\n",
    "plt.ylabel('Total Investment (USD)')\n",
    "plt.title('Top 9 Countries with Highest Investment in Venture Funding Round')\n",
    "plt.xticks(rotation=45)"
   ]
  },
  {
   "cell_type": "markdown",
   "id": "cdc3d010",
   "metadata": {},
   "source": [
    "# <font color = 'black'>Question 12 : Create the ‘main_category’ column by extracting the main sector using the column ‘category_list’.Hint - Use the Lambda function or string function."
   ]
  },
  {
   "cell_type": "code",
   "execution_count": 32,
   "id": "412e90eb",
   "metadata": {},
   "outputs": [
    {
     "data": {
      "text/plain": [
       "main_category\n",
       "Biotechnology          10414\n",
       "Software                6892\n",
       "Advertising             4821\n",
       "E-Commerce              4741\n",
       "Curated Web             3706\n",
       "                       ...  \n",
       "Internet Technology        1\n",
       "Email Newsletters          1\n",
       "Darknet                    1\n",
       "Testing                    1\n",
       "Task Management            1\n",
       "Name: count, Length: 728, dtype: int64"
      ]
     },
     "execution_count": 32,
     "metadata": {},
     "output_type": "execute_result"
    }
   ],
   "source": [
    "# Define a function to extract the main category from a string containing categories separated by '|'\n",
    "def extract_main_category(category):\n",
    "    if isinstance(category, str):  # Check if the value is a string (not NaN)\n",
    "        if '|' in category:  # Check if the '|' character exists in the category string\n",
    "            return category.split('|')[0]  # Split the string by '|' and retrieve the first category\n",
    "        else:\n",
    "            return category  # Return the same category if no '|' is found\n",
    "    else:\n",
    "        return np.nan  # Return NaN for non-string values\n",
    "\n",
    "# Apply the 'extract_main_category' function to create a new 'main_category' column in 'master_df'\n",
    "# Use the 'category_list' column values as input and store the extracted main category in the new column\n",
    "master_df['main_category'] = master_df['category_list'].apply(lambda x: extract_main_category(x))\n",
    "master_df['main_category'].value_counts()"
   ]
  },
  {
   "cell_type": "markdown",
   "id": "e8f6e136",
   "metadata": {},
   "source": [
    "# Question 13 : Using the user defined function convert the ‘raised_amount_usd’ column into a categorical column as follow - \n",
    "## a)If the amount is less than 5 Millions then recode as TypeA.\n",
    "## b) If the amount is greater than 5 Millions and less than 7 Millions then recode as TypeB.\n",
    "## c) If the amount is greater than 7 Millions then recode as TypeC."
   ]
  },
  {
   "cell_type": "code",
   "execution_count": 95,
   "id": "74c90a36-c10a-4679-8036-73c2e88634fe",
   "metadata": {},
   "outputs": [
    {
     "name": "stdout",
     "output_type": "stream",
     "text": [
      "0\n"
     ]
    }
   ],
   "source": [
    "master_df['raised_amount_usd'].fillna(0, inplace=True)\n",
    "\n",
    "print(master_df['raised_amount_usd'].isna().sum())"
   ]
  },
  {
   "cell_type": "code",
   "execution_count": 96,
   "id": "de934fd4",
   "metadata": {},
   "outputs": [
    {
     "data": {
      "text/html": [
       "<div>\n",
       "<style scoped>\n",
       "    .dataframe tbody tr th:only-of-type {\n",
       "        vertical-align: middle;\n",
       "    }\n",
       "\n",
       "    .dataframe tbody tr th {\n",
       "        vertical-align: top;\n",
       "    }\n",
       "\n",
       "    .dataframe thead th {\n",
       "        text-align: right;\n",
       "    }\n",
       "</style>\n",
       "<table border=\"1\" class=\"dataframe\">\n",
       "  <thead>\n",
       "    <tr style=\"text-align: right;\">\n",
       "      <th></th>\n",
       "      <th>raised_amount_usd</th>\n",
       "      <th>category_column</th>\n",
       "    </tr>\n",
       "  </thead>\n",
       "  <tbody>\n",
       "    <tr>\n",
       "      <th>0</th>\n",
       "      <td>10000000.0</td>\n",
       "      <td>TypeC</td>\n",
       "    </tr>\n",
       "    <tr>\n",
       "      <th>1</th>\n",
       "      <td>0.0</td>\n",
       "      <td>TypeA</td>\n",
       "    </tr>\n",
       "    <tr>\n",
       "      <th>2</th>\n",
       "      <td>700000.0</td>\n",
       "      <td>TypeA</td>\n",
       "    </tr>\n",
       "    <tr>\n",
       "      <th>3</th>\n",
       "      <td>3406878.0</td>\n",
       "      <td>TypeA</td>\n",
       "    </tr>\n",
       "    <tr>\n",
       "      <th>4</th>\n",
       "      <td>2000000.0</td>\n",
       "      <td>TypeA</td>\n",
       "    </tr>\n",
       "  </tbody>\n",
       "</table>\n",
       "</div>"
      ],
      "text/plain": [
       "   raised_amount_usd category_column\n",
       "0         10000000.0           TypeC\n",
       "1                0.0           TypeA\n",
       "2           700000.0           TypeA\n",
       "3          3406878.0           TypeA\n",
       "4          2000000.0           TypeA"
      ]
     },
     "execution_count": 96,
     "metadata": {},
     "output_type": "execute_result"
    }
   ],
   "source": [
    "# Define a function 'categorize_amount' that categorizes 'amount' into different types based on conditions\n",
    "def categorize_amount(amount):\n",
    "    if amount < 5000000:\n",
    "        return 'TypeA'\n",
    "    elif 5000000 <= amount < 7000000:\n",
    "        return 'TypeB'\n",
    "    elif amount > 7000000:\n",
    "        return 'TypeC'\n",
    "\n",
    "# Apply the 'categorize_amount' function to create a new column 'category_column' in 'master_df'\n",
    "# Using 'raised_amount_usd' column as input and assigning the categorized values to 'category_column'\n",
    "master_df['category_column'] = master_df['raised_amount_usd'].apply(categorize_amount)\n",
    "\n",
    "# Creating a new DataFrame 'a' by concatenating columns 'raised_amount_usd' and 'category_column' from master_df\n",
    "# axis=1 concatenates along columns, combining the two specified columns into a new DataFrame\n",
    "a = pd.concat([master_df['raised_amount_usd'], master_df['category_column']], axis=1)\n",
    "\n",
    "# Displaying the first 5 rows of the new DataFrame 'a' to inspect the result\n",
    "a.head()"
   ]
  },
  {
   "cell_type": "markdown",
   "id": "82dad081",
   "metadata": {},
   "source": [
    "# <font color ='black'> What could have been done better "
   ]
  },
  {
   "cell_type": "raw",
   "id": "3a447a54",
   "metadata": {},
   "source": [
    "Implementing these steps ensures a strong, data-driven approach to identify prime countries and investment types based on prevalent investor activity:\n",
    "\n",
    "1. Data Collection & Cleaning:\n",
    "   - Gather reliable data on investment types, countries, and trends. Clean data for accuracy and completeness.\n",
    "\n",
    "2. Exploratory Data Analysis (EDA):\n",
    "   - Use Pandas, Matplotlib, or Seaborn for in-depth analysis, identifying trends, outliers, and patterns.\n",
    "\n",
    "3. Country Ranking:\n",
    "   - Compute metrics (total investment, growth rate) to rank countries' investment attractiveness. Visualize rankings for comparison.\n",
    "\n",
    "4. Investment Type Analysis:\n",
    "   - Explore prevalent investment types per country using visualizations to highlight regional dominance.\n",
    "\n",
    "5. Correlation Analysis:\n",
    "   - Investigate relationships between investment types and economic/demographic factors (GDP, population) via statistical methods.\n",
    "\n",
    "6. Optional Machine Learning:\n",
    "   - Consider predictive models (Random Forest, Gradient Boosting) to forecast future investment trends if suitable."
   ]
  },
  {
   "cell_type": "raw",
   "id": "89564d03",
   "metadata": {},
   "source": [
    "Takeaways:\n",
    "\n",
    "- The United States is the most popular destination for investors, followed by Canada, the United Kingdom, China, and India \n",
    "- The top 5 countries account for over 70% of all investments.\n",
    "- The top 5 investment types account for over 90% of all investments.\n",
    "- Venture capital is the most popular investment type, followed by seed capital, debt financing, and angel investing.\n",
    "\n",
    "Conclusion:\n",
    "\n",
    "The global investment landscape is still relatively concentrated, with the United States and a few other developed countries attracting the majority of investment. However, emerging economies such as China and India are becoming increasingly attractive destinations for investment. The most popular investment types are venture capital, seed capital, debt financing, and angel investing. Investors should carefully consider the risks and potential rewards of any investment before making a decision."
   ]
  },
  {
   "cell_type": "raw",
   "id": "0382bab8",
   "metadata": {},
   "source": [
    "Takeaway points:\n",
    "\n",
    "- The image shows the The bottom 5 investment types are Secondary market, Post-IPO debt, Non-equity assistance,Product             crowdfunding, Post-IPO equity\n",
    "- The least invested countries are Tanzania (TAN), Cyprus (CYP), Indonesia (IDN), Czech Republic (CZE),Costa Rica (CRI)\n",
    "\n",
    "Conclusion:\n",
    "\n",
    "- These investment types might be new or specialized, leading to lower investment attraction.\n",
    "- The least invested countries tend to be smaller or in developing stages, potentially influencing their investment rates.\n",
    "- this image offers insights, it shouldn't be the sole basis for investment decisions. Research and analysis remain crucial in     making informed investment choices."
   ]
  },
  {
   "cell_type": "markdown",
   "id": "57c61f06",
   "metadata": {},
   "source": [
    "# <font color = 'black'>Future Steps"
   ]
  },
  {
   "cell_type": "raw",
   "id": "9fca4716",
   "metadata": {},
   "source": [
    "- Country Analysis : Conduct a detailed examination of the top investment destinations to understand the underlying factors driving investor interest.\n",
    "- Market Dynamics Study : Explore the performance and potential of these countries' markets, considering economic stability, growth prospects, and regulatory frameworks.\n",
    "- Sector-Specific Assessment : Analyze sectors in these countries where investments are concentrated, identifying key industries and their growth trajectories.\n",
    "- Risk Assessment : Evaluate associated risks, considering geopolitical, economic, and market-specific factors to make informed investment decisions.\n",
    "- Continuous Monitoring : Regularly track investment trends and shifts in focus to adapt strategies and capitalize on evolving opportunities in these preferred countries."
   ]
  },
  {
   "cell_type": "code",
   "execution_count": null,
   "id": "70c49ecd",
   "metadata": {},
   "outputs": [],
   "source": []
  }
 ],
 "metadata": {
  "kernelspec": {
   "display_name": "Python 3 (ipykernel)",
   "language": "python",
   "name": "python3"
  },
  "language_info": {
   "codemirror_mode": {
    "name": "ipython",
    "version": 3
   },
   "file_extension": ".py",
   "mimetype": "text/x-python",
   "name": "python",
   "nbconvert_exporter": "python",
   "pygments_lexer": "ipython3",
   "version": "3.11.7"
  }
 },
 "nbformat": 4,
 "nbformat_minor": 5
}
